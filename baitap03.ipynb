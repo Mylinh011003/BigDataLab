{
 "cells": [
  {
   "cell_type": "code",
   "execution_count": 1,
   "id": "9d84e954-315a-4e4f-a614-c7de6868d69d",
   "metadata": {},
   "outputs": [
    {
     "data": {
      "text/plain": [
       "'local-1730367413533'"
      ]
     },
     "execution_count": 1,
     "metadata": {},
     "output_type": "execute_result"
    }
   ],
   "source": [
    "sc.applicationId"
   ]
  },
  {
   "cell_type": "code",
   "execution_count": 3,
   "id": "5ae33371-9947-413a-b2de-8a7cbd973abb",
   "metadata": {},
   "outputs": [
    {
     "data": {
      "text/plain": [
       "'PySparkShell'"
      ]
     },
     "execution_count": 3,
     "metadata": {},
     "output_type": "execute_result"
    }
   ],
   "source": [
    "sc.appName"
   ]
  },
  {
   "cell_type": "code",
   "execution_count": 4,
   "id": "b978aec8-f678-41c2-a783-9f1a50853779",
   "metadata": {},
   "outputs": [],
   "source": [
    "fracRdd = sc.textFile(\"data_phanso\")"
   ]
  },
  {
   "cell_type": "code",
   "execution_count": 5,
   "id": "4bb43c9b-438f-4ac5-be2b-38d85d907649",
   "metadata": {},
   "outputs": [
    {
     "data": {
      "text/plain": [
       "['2/3', '5/6', '7/8', '1/2', '9/10']"
      ]
     },
     "execution_count": 5,
     "metadata": {},
     "output_type": "execute_result"
    }
   ],
   "source": [
    "fracRdd.collect()"
   ]
  },
  {
   "cell_type": "code",
   "execution_count": 6,
   "id": "847588db-249f-47b1-b8eb-87c8d58738eb",
   "metadata": {},
   "outputs": [],
   "source": [
    "def transformFractions(fraction):\n",
    "    tm = fraction.split(\"/\")\n",
    "    return (int(tm[0]), int(tm[1]))"
   ]
  },
  {
   "cell_type": "code",
   "execution_count": 7,
   "id": "de6c0b60-b44f-44a0-913b-03891776c5cd",
   "metadata": {},
   "outputs": [],
   "source": [
    "def sumFractions(fr1, fr2):\n",
    "    return ((int(fr1[0]) * int(fr2[1]) + int(fr2[0]) * int(fr1[1])),(int(fr1[1]) * int(fr2[1])))"
   ]
  },
  {
   "cell_type": "code",
   "execution_count": 8,
   "id": "5c75d5dc-4abc-46ac-a8a7-8b71547ad756",
   "metadata": {},
   "outputs": [],
   "source": [
    "def UCLN(a,b):\n",
    "    if b == 0:\n",
    "        return a\n",
    "    else: return UCLN(b, a%b)"
   ]
  },
  {
   "cell_type": "code",
   "execution_count": 9,
   "id": "e33c2264-38f3-4f59-a691-a35bc6b52b8f",
   "metadata": {},
   "outputs": [],
   "source": [
    "def rutGonPhanSo(ps):\n",
    "    ucln = UCLN(ps[0], ps[1])\n",
    "    return (int(ps[0])/ucln, int(ps[1])/ucln)"
   ]
  },
  {
   "cell_type": "code",
   "execution_count": 10,
   "id": "65aef022-a5e7-4541-b817-8e4ce6a1257b",
   "metadata": {},
   "outputs": [],
   "source": [
    "FracRdd = fracRdd.map(lambda x: transformFractions(x))"
   ]
  },
  {
   "cell_type": "code",
   "execution_count": 11,
   "id": "cf80d4f9-59f4-48c7-8059-d68309590d93",
   "metadata": {},
   "outputs": [
    {
     "name": "stderr",
     "output_type": "stream",
     "text": [
      "                                                                                \r"
     ]
    },
    {
     "data": {
      "text/plain": [
       "[(2, 3), (5, 6), (7, 8), (1, 2), (9, 10)]"
      ]
     },
     "execution_count": 11,
     "metadata": {},
     "output_type": "execute_result"
    }
   ],
   "source": [
    "FracRdd.collect()"
   ]
  },
  {
   "cell_type": "code",
   "execution_count": 12,
   "id": "225aa7a9-396b-48fb-b304-e4164590b83b",
   "metadata": {},
   "outputs": [],
   "source": [
    "sum = FracRdd.reduce(lambda x, y: sumFractions(x,y))"
   ]
  },
  {
   "cell_type": "code",
   "execution_count": 13,
   "id": "8bdfa3b3-c6bb-4407-9b6d-67ca031e1129",
   "metadata": {},
   "outputs": [
    {
     "name": "stdout",
     "output_type": "stream",
     "text": [
      "(10872, 2880)\n"
     ]
    }
   ],
   "source": [
    "print(sum)"
   ]
  },
  {
   "cell_type": "code",
   "execution_count": 14,
   "id": "a1150eac-d8c3-4914-a88c-4ef638c542d0",
   "metadata": {},
   "outputs": [],
   "source": [
    "final_sum = rutGonPhanSo(sum)"
   ]
  },
  {
   "cell_type": "code",
   "execution_count": 16,
   "id": "6d15041e-d98a-40ed-a855-d99b12413e24",
   "metadata": {},
   "outputs": [
    {
     "name": "stdout",
     "output_type": "stream",
     "text": [
      "Tong cua day cac phan so: 151/40\n"
     ]
    }
   ],
   "source": [
    "print(\"Tong cua day cac phan so: \" + str(int(final_sum[0])) + \"/\" + str(int(final_sum[1])))"
   ]
  },
  {
   "cell_type": "code",
   "execution_count": null,
   "id": "ab521883-5f14-436a-a368-5f6f97c157f8",
   "metadata": {},
   "outputs": [],
   "source": []
  }
 ],
 "metadata": {
  "kernelspec": {
   "display_name": "Python 3 (ipykernel)",
   "language": "python",
   "name": "python3"
  },
  "language_info": {
   "codemirror_mode": {
    "name": "ipython",
    "version": 3
   },
   "file_extension": ".py",
   "mimetype": "text/x-python",
   "name": "python",
   "nbconvert_exporter": "python",
   "pygments_lexer": "ipython3",
   "version": "3.12.3"
  }
 },
 "nbformat": 4,
 "nbformat_minor": 5
}
